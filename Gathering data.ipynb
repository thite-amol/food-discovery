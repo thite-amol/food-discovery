{
 "cells": [
  {
   "cell_type": "markdown",
   "metadata": {},
   "source": [
    "# Zomato API - Gathering Data\n",
    "\n",
    "## In this Notebook:\n",
    " - Using zomato API, restaurant information from the Pune city was saved\n",
    " - A web scraper was created, but not executed to gather full review information (to adhere to ToS)."
   ]
  },
  {
   "cell_type": "markdown",
   "metadata": {},
   "source": [
    "### Using offset and limit parameters in zoom API\n",
    "\n",
    "As there is a limit of 20 restaurants per API call used this parameter with combination of other parameters\n",
    "\n",
    "\n",
    "### Steps taken to retrieve data\n",
    "\n",
    "- Get list of establishment (for restaurants)\n",
    "- For each establishment, cycle through to get 100 restaurants of that type\n",
    "- Do that for all establishment to retrieve all restaurant data\n",
    "- For each restaurant in each category, create a scraper to gather review data (for example, for top 500 restaurants)\n",
    "    - Built the scraper but did not execute, as it is against ToS."
   ]
  },
  {
   "cell_type": "code",
   "execution_count": 11,
   "metadata": {},
   "outputs": [],
   "source": [
    "import requests\n",
    "import json\n",
    "import csv\n",
    "import time\n",
    "import pandas as pd"
   ]
  },
  {
   "cell_type": "code",
   "execution_count": 33,
   "metadata": {},
   "outputs": [],
   "source": [
    "## Define constants\n",
    "API_KEY = '<--- API KEY HERE --->'\n",
    "HOST = \"https://developers.zomato.com/api/v2.1\"\n",
    "HEADERS = {    'Accept': 'application/json',\n",
    "               'user-key': '%s' % API_KEY,\n",
    "          }"
   ]
  },
  {
   "cell_type": "markdown",
   "metadata": {},
   "source": [
    "## Testing API's and data"
   ]
  },
  {
   "cell_type": "code",
   "execution_count": null,
   "metadata": {},
   "outputs": [],
   "source": [
    "ENDPOINT = HOST + \"/categories\"\n",
    "response = requests.get(url=ENDPOINT, headers=HEADERS)"
   ]
  },
  {
   "cell_type": "code",
   "execution_count": 21,
   "metadata": {},
   "outputs": [],
   "source": [
    "# Load response in the file\n",
    "f = open(\"data/categories.json\", \"w\")\n",
    "f.write(response.text)\n",
    "f.close()"
   ]
  },
  {
   "cell_type": "code",
   "execution_count": 11,
   "metadata": {},
   "outputs": [],
   "source": [
    "# get the cusines available on the zomato\n",
    "ENDPOINT = HOST + \"/cuisines\"\n",
    "\n",
    "# 5 is a pune city id\n",
    "PARAMETERS = {'city_id': 5}\n",
    "\n",
    "cuisines = requests.get(url=ENDPOINT, headers=HEADERS, params=PARAMETERS)"
   ]
  },
  {
   "cell_type": "code",
   "execution_count": 20,
   "metadata": {},
   "outputs": [],
   "source": [
    "# Load response in the file\n",
    "f = open(\"data/cusines.json\", \"w\")\n",
    "f.write(cuisines.text)\n",
    "f.close()"
   ]
  },
  {
   "cell_type": "code",
   "execution_count": 117,
   "metadata": {},
   "outputs": [],
   "source": [
    "# get the establishment available on the zomato\n",
    "ENDPOINT = HOST + \"/establishments\"\n",
    "\n",
    "# 5 is a pune city id\n",
    "PARAMETERS = {'city_id': 5}\n",
    "\n",
    "establishment = requests.get(url=ENDPOINT, headers=HEADERS, params=PARAMETERS)\n",
    "\n",
    "# Load response in the file\n",
    "f = open(\"data/establishment.json\", \"w\")\n",
    "f.write(establishment.text)\n",
    "f.close()"
   ]
  },
  {
   "cell_type": "code",
   "execution_count": 16,
   "metadata": {},
   "outputs": [],
   "source": [
    "establishment_data = []\n",
    "with open('data/establishment.json') as f:\n",
    "    data = json.load(f)\n",
    "\n",
    "for establishment in data['establishments']:\n",
    "    establishment_data.append(establishment['establishment']['id'])"
   ]
  },
  {
   "cell_type": "code",
   "execution_count": 17,
   "metadata": {},
   "outputs": [
    {
     "data": {
      "text/plain": [
       "31"
      ]
     },
     "execution_count": 17,
     "metadata": {},
     "output_type": "execute_result"
    }
   ],
   "source": [
    "len(establishment_data)"
   ]
  },
  {
   "cell_type": "markdown",
   "metadata": {},
   "source": [
    "## Next, let's gather the data for all restaurants"
   ]
  },
  {
   "cell_type": "code",
   "execution_count": 19,
   "metadata": {},
   "outputs": [],
   "source": [
    "restaurants_data = []"
   ]
  },
  {
   "cell_type": "code",
   "execution_count": 32,
   "metadata": {},
   "outputs": [],
   "source": [
    "# get the restaurants\n",
    "start=0\n",
    "def get_restaurant(start):    \n",
    "    ENDPOINT = HOST + \"/search\"\n",
    "\n",
    "    for establishment in establishment_data:\n",
    "        while True:\n",
    "            # 5 is a pune city id\n",
    "            PARAMETERS = {'entity_id': 5,\n",
    "                          'entity_type': 'city',\n",
    "                          'coun: t': 20,\n",
    "                          'start': start,\n",
    "                          'establishment_type': establishment\n",
    "                         }\n",
    "\n",
    "            restaurants = requests.get(url=ENDPOINT, headers=HEADERS, params=PARAMETERS)\n",
    "            if restaurants.json().get('results_shown', 0) == 0:\n",
    "                break\n",
    "\n",
    "            restaurants_data.append(restaurants.text)\n",
    "            start = start + 20\n",
    "            time.sleep(2) ## Hey don't block me :) I'm your friend\n",
    "        start = 0\n",
    "get_restaurant(start)\n"
   ]
  },
  {
   "cell_type": "code",
   "execution_count": 21,
   "metadata": {},
   "outputs": [
    {
     "data": {
      "text/plain": [
       "62"
      ]
     },
     "execution_count": 21,
     "metadata": {},
     "output_type": "execute_result"
    }
   ],
   "source": [
    "len(restaurants_data)"
   ]
  },
  {
   "cell_type": "code",
   "execution_count": 22,
   "metadata": {},
   "outputs": [],
   "source": [
    "# Load response in the file\n",
    "\n",
    "f = open(\"data/restaurants.json\", \"w\")\n",
    "json.dump(restaurants_data,f)\n",
    "# f.write(json.dump(restaurants_data))\n",
    "f.close()"
   ]
  },
  {
   "cell_type": "code",
   "execution_count": 23,
   "metadata": {},
   "outputs": [],
   "source": [
    "with open('data/restaurants.json') as f:\n",
    "    data = json.load(f)"
   ]
  },
  {
   "cell_type": "code",
   "execution_count": 24,
   "metadata": {},
   "outputs": [],
   "source": [
    "csvfile=open('zomato.csv', 'w',newline=\"\")\n",
    "writer=csv.writer(csvfile)  \n",
    "writer.writerow(['Restaurant ID','Restaurant Name','Country Code','City','Address','Locality','Locality Verbose','Longitude','Latitude','Cuisines','Average Cost for two','Has Table booking','Has Online delivery','Is delivering now','Switch to order menu','Price range','Aggregate rating','Rating text','Votes', 'Review Count'])\n",
    "for restautant in data:\n",
    "    innerrestaurant = json.loads(restautant)\n",
    "    for final_estaurant in innerrestaurant['restaurants']:\n",
    "        currency=final_estaurant['restaurant']['currency']\n",
    "        city=final_estaurant['restaurant']['location']['city']\n",
    "        locality=final_estaurant['restaurant']['location']['locality']\n",
    "        rating_text=final_estaurant['restaurant']['user_rating']['rating_text']\n",
    "        name_res=final_estaurant['restaurant']['name']\n",
    "        res_id=final_estaurant['restaurant']['R']['res_id']\n",
    "        cuisines=final_estaurant['restaurant']['cuisines']\n",
    "        has_table_booking=final_estaurant['restaurant']['has_table_booking']\n",
    "        has_online_delivery=final_estaurant['restaurant']['has_online_delivery']\n",
    "        city_id=final_estaurant['restaurant']['location']['city_id']\n",
    "        address=final_estaurant['restaurant']['location']['address']\n",
    "        locality_verbose=final_estaurant['restaurant']['location']['locality_verbose']\n",
    "        longitude=final_estaurant['restaurant']['location']['longitude']\n",
    "        latitude=final_estaurant['restaurant']['location']['latitude']\n",
    "        is_delivering_now=final_estaurant['restaurant']['is_delivering_now']\n",
    "        country_id=final_estaurant['restaurant']['location']['country_id']\n",
    "        price_range=final_estaurant['restaurant']['price_range']\n",
    "        switch_to_order_menu=final_estaurant['restaurant']['switch_to_order_menu']\n",
    "        aggregate_rating=final_estaurant['restaurant']['user_rating']['aggregate_rating']\n",
    "        votes=final_estaurant['restaurant']['user_rating']['votes']\n",
    "        avg_cost=final_estaurant['restaurant']['average_cost_for_two']\n",
    "        all_reviews_count=final_estaurant['restaurant']['all_reviews_count']\n",
    "        \n",
    "        writer.writerow([res_id,name_res,country_id,city,address,locality,locality_verbose,longitude,latitude,cuisines,avg_cost,has_table_booking,has_online_delivery,is_delivering_now,switch_to_order_menu,price_range,aggregate_rating,rating_text,votes, all_reviews_count])"
   ]
  },
  {
   "cell_type": "code",
   "execution_count": 25,
   "metadata": {},
   "outputs": [],
   "source": [
    "zomato=pd.read_csv('zomato.csv')"
   ]
  },
  {
   "cell_type": "code",
   "execution_count": 31,
   "metadata": {},
   "outputs": [],
   "source": [
    "# zomato.head()"
   ]
  },
  {
   "cell_type": "code",
   "execution_count": 28,
   "metadata": {},
   "outputs": [
    {
     "name": "stdout",
     "output_type": "stream",
     "text": [
      "<class 'pandas.core.frame.DataFrame'>\n",
      "RangeIndex: 1133 entries, 0 to 1132\n",
      "Data columns (total 20 columns):\n",
      " #   Column                Non-Null Count  Dtype  \n",
      "---  ------                --------------  -----  \n",
      " 0   Restaurant ID         1133 non-null   int64  \n",
      " 1   Restaurant Name       1133 non-null   object \n",
      " 2   Country Code          1133 non-null   int64  \n",
      " 3   City                  1133 non-null   object \n",
      " 4   Address               1133 non-null   object \n",
      " 5   Locality              1133 non-null   object \n",
      " 6   Locality Verbose      1133 non-null   object \n",
      " 7   Longitude             1133 non-null   float64\n",
      " 8   Latitude              1133 non-null   float64\n",
      " 9   Cuisines              1133 non-null   object \n",
      " 10  Average Cost for two  1133 non-null   int64  \n",
      " 11  Has Table booking     1133 non-null   int64  \n",
      " 12  Has Online delivery   1133 non-null   int64  \n",
      " 13  Is delivering now     1133 non-null   int64  \n",
      " 14  Switch to order menu  1133 non-null   int64  \n",
      " 15  Price range           1133 non-null   int64  \n",
      " 16  Aggregate rating      1133 non-null   float64\n",
      " 17  Rating text           1133 non-null   object \n",
      " 18  Votes                 1133 non-null   int64  \n",
      " 19  Review Count          1133 non-null   int64  \n",
      "dtypes: float64(3), int64(10), object(7)\n",
      "memory usage: 177.2+ KB\n"
     ]
    }
   ],
   "source": [
    "zomato.info()"
   ]
  },
  {
   "cell_type": "code",
   "execution_count": null,
   "metadata": {},
   "outputs": [],
   "source": []
  }
 ],
 "metadata": {
  "kernelspec": {
   "display_name": "Python 3",
   "language": "python",
   "name": "python3"
  },
  "language_info": {
   "codemirror_mode": {
    "name": "ipython",
    "version": 3
   },
   "file_extension": ".py",
   "mimetype": "text/x-python",
   "name": "python",
   "nbconvert_exporter": "python",
   "pygments_lexer": "ipython3",
   "version": "3.7.3"
  }
 },
 "nbformat": 4,
 "nbformat_minor": 2
}
